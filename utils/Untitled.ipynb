{
 "cells": [
  {
   "cell_type": "code",
   "execution_count": 1,
   "id": "dcec9fdb-a773-4b0e-a9b8-382b947e7e27",
   "metadata": {},
   "outputs": [],
   "source": [
    "import os\n",
    "import shutil"
   ]
  },
  {
   "cell_type": "code",
   "execution_count": 18,
   "id": "14148299-e084-4206-aa0d-b13d745ecdac",
   "metadata": {},
   "outputs": [
    {
     "name": "stdout",
     "output_type": "stream",
     "text": [
      "mvs\n",
      "mvs\n",
      "dense\n",
      "mvs\n",
      "sparse\n"
     ]
    }
   ],
   "source": [
    "pth = r\"C:\\Users\\marem\\PycharmProjects\\home\\projects\\unn\\cw_1\\github\\mvs models\\own\"\n",
    "for file in os.listdir(pth):\n",
    "    if '.log' in file or '.txt' in file:\n",
    "        continue\n",
    "    for file_1 in os.listdir(pth + '\\\\' + file):\n",
    "        for file_2 in os.listdir(pth + '\\\\' + file + '\\\\' + file_1):\n",
    "            print(file_2)\n",
    "            if file_2 != 'mvs':\n",
    "                shutil.rmtree(pth + '\\\\' + file + '\\\\' + file_1 + '\\\\' + file_2)"
   ]
  },
  {
   "cell_type": "code",
   "execution_count": null,
   "id": "811e5e89-457f-433d-952e-5024df40ab98",
   "metadata": {},
   "outputs": [],
   "source": []
  }
 ],
 "metadata": {
  "kernelspec": {
   "display_name": "Python [conda env:unn_cw_1]",
   "language": "python",
   "name": "conda-env-unn_cw_1-py"
  },
  "language_info": {
   "codemirror_mode": {
    "name": "ipython",
    "version": 3
   },
   "file_extension": ".py",
   "mimetype": "text/x-python",
   "name": "python",
   "nbconvert_exporter": "python",
   "pygments_lexer": "ipython3",
   "version": "3.7.16"
  }
 },
 "nbformat": 4,
 "nbformat_minor": 5
}
